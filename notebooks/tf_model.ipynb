{
 "cells": [
  {
   "cell_type": "code",
   "execution_count": null,
   "metadata": {},
   "outputs": [],
   "source": [
    "### Import packages ###\n",
    "\n",
    "import os\n",
    "import shutil\n",
    "import datetime\n",
    "\n",
    "import tensorflow as tf\n",
    "from tensorflow import keras\n",
    "from keras import optimizers\n",
    "import tensorflow_model_optimization as tfmot\n",
    "\n",
    "import keras_cv\n",
    "from keras_cv import utils\n",
    "\n",
    "from IPython import display\n",
    "import numpy as np\n",
    "from PIL import Image\n",
    "import matplotlib.pyplot as plt\n",
    "\n",
    "import mlflow\n",
    "import mlflow.keras\n",
    "import yaml\n",
    "import cv2\n",
    "\n",
    "\n",
    "\n",
    "# TensorBoard notebook extension\n",
    "%load_ext tensorboard\n",
    "\n",
    "print(\"TF version:\", tf.__version__)\n",
    "print(\"GPU is\", \"available\" if tf.config.list_physical_devices('GPU') else \"NOT AVAILABLE\")"
   ]
  },
  {
   "cell_type": "code",
   "execution_count": null,
   "metadata": {},
   "outputs": [],
   "source": [
    "def parse_label_file(label_file):\n",
    "    with open(label_file, 'r') as f:\n",
    "        lines = f.readlines()\n",
    "    labels = []\n",
    "    for line in lines:\n",
    "        if line.strip():  # Ignore empty lines\n",
    "            class_id, x_center, y_center, width, height = map(float, line.strip().split())\n",
    "            labels.append([class_id, x_center, y_center, width, height])\n",
    "    return np.array(labels)"
   ]
  },
  {
   "cell_type": "code",
   "execution_count": null,
   "metadata": {},
   "outputs": [],
   "source": [
    "def load_dataset(images_dir, labels_dir):\n",
    "    images = []\n",
    "    bboxes = []\n",
    "    class_ids = []\n",
    "    for img_file in os.listdir(images_dir):\n",
    "        if img_file.endswith('.jpg'):\n",
    "            img_path = os.path.join(images_dir, img_file)\n",
    "            label_path = os.path.join(labels_dir, img_file.replace('.jpg', '.txt'))\n",
    "            \n",
    "            image = cv2.imread(img_path)\n",
    "            image = cv2.resize(image, (INPUT_SIZE, INPUT_SIZE))\n",
    "            image = image / 255.0\n",
    "            images.append(image)\n",
    "            \n",
    "            labels = parse_label_file(label_path)\n",
    "            if labels.size > 0:\n",
    "                bbox = labels[:, 1:]\n",
    "                class_id = labels[:, 0]\n",
    "            else:\n",
    "                bbox = np.zeros((0, 4))\n",
    "                class_id = np.zeros((0,))\n",
    "            \n",
    "            bboxes.append(bbox)\n",
    "            class_ids.append(class_id)\n",
    "    \n",
    "    images = np.array(images)\n",
    "    bboxes = [np.array(b) for b in bboxes]\n",
    "    class_ids = [np.array(c) for c in class_ids]\n",
    "    \n",
    "    return images, bboxes, class_ids"
   ]
  },
  {
   "cell_type": "code",
   "execution_count": null,
   "metadata": {},
   "outputs": [],
   "source": [
    "train_images, train_bboxes, train_class_ids = load_dataset('../yolo_data_v2/train/images', '../yolo_data_v2/train/labels')\n",
    "val_images, val_bboxes, val_class_ids = load_dataset('../yolo_data_v2/val/images', '../yolo_data_v2/val/labels')"
   ]
  },
  {
   "cell_type": "code",
   "execution_count": null,
   "metadata": {},
   "outputs": [],
   "source": [
    "def create_tf_dataset(images, bboxes, class_ids):\n",
    "    def generator():\n",
    "        for img, bbox, cls_id in zip(images, bboxes, class_ids):\n",
    "            yield img, bbox, cls_id\n",
    "    \n",
    "    output_signature = (\n",
    "        tf.TensorSpec(shape=(INPUT_SIZE, INPUT_SIZE, 3), dtype=tf.float32),\n",
    "        tf.TensorSpec(shape=(None, 4), dtype=tf.float32),\n",
    "        tf.TensorSpec(shape=(None,), dtype=tf.float32),\n",
    "    )\n",
    "    \n",
    "    dataset = tf.data.Dataset.from_generator(generator, output_signature=output_signature)\n",
    "    dataset = dataset.padded_batch(\n",
    "        BATCH_SIZE,\n",
    "        padded_shapes=(\n",
    "            tf.TensorShape([INPUT_SIZE, INPUT_SIZE, 3]),\n",
    "            tf.TensorShape([None, 4]),\n",
    "            tf.TensorShape([None])\n",
    "        ),\n",
    "        padding_values=(\n",
    "            tf.constant(0, dtype=tf.float32),\n",
    "            tf.constant(0, dtype=tf.float32),\n",
    "            tf.constant(-1, dtype=tf.float32)  # Use -1 for class_id padding\n",
    "        )\n",
    "    )\n",
    "    dataset = dataset.prefetch(tf.data.AUTOTUNE)\n",
    "    return dataset"
   ]
  },
  {
   "cell_type": "code",
   "execution_count": null,
   "metadata": {},
   "outputs": [],
   "source": [
    "train_ds = create_tf_dataset(train_images, train_bboxes, train_class_ids)\n",
    "val_ds = create_tf_dataset(val_images, val_bboxes, val_class_ids)"
   ]
  },
  {
   "cell_type": "code",
   "execution_count": null,
   "metadata": {},
   "outputs": [],
   "source": [
    "import random\n",
    "import matplotlib.pyplot as plt\n"
   ]
  },
  {
   "cell_type": "code",
   "execution_count": null,
   "metadata": {},
   "outputs": [],
   "source": [
    "def visualize_dataset(dataset, num_images=5):\n",
    "    for images, bboxes, class_ids in dataset.take(1):\n",
    "        images = images.numpy()\n",
    "        bboxes = bboxes.numpy()\n",
    "        class_ids = class_ids.numpy()\n",
    "\n",
    "        for i in range(num_images):\n",
    "            image = images[i]\n",
    "            bbox = bboxes[i]\n",
    "            class_id = class_ids[i]\n",
    "\n",
    "            fig, ax = plt.subplots(1)\n",
    "            ax.imshow(image)\n",
    "\n",
    "            for j in range(len(bbox)):\n",
    "                if class_id[j] == -1:  # Ignore padding\n",
    "                    continue\n",
    "                x_center, y_center, width, height = bbox[j]\n",
    "                x_center *= INPUT_SIZE\n",
    "                y_center *= INPUT_SIZE\n",
    "                width *= INPUT_SIZE\n",
    "                height *= INPUT_SIZE\n",
    "\n",
    "                x1 = x_center - width / 2\n",
    "                y1 = y_center - height / 2\n",
    "                rect = plt.Rectangle((x1, y1), width, height, linewidth=1, edgecolor='r', facecolor='none')\n",
    "                ax.add_patch(rect)\n",
    "                plt.text(x1, y1, f'Class {int(class_id[j])}', color='white', bbox=dict(facecolor='red', alpha=0.5))\n",
    "\n",
    "            plt.show()"
   ]
  },
  {
   "cell_type": "code",
   "execution_count": null,
   "metadata": {},
   "outputs": [],
   "source": [
    "visualize_dataset(train_ds, num_images=10)"
   ]
  },
  {
   "cell_type": "code",
   "execution_count": 24,
   "metadata": {},
   "outputs": [
    {
     "name": "stdout",
     "output_type": "stream",
     "text": [
      "Model: \"model\"\n",
      "__________________________________________________________________________________________________\n",
      " Layer (type)                   Output Shape         Param #     Connected to                     \n",
      "==================================================================================================\n",
      " input_1 (InputLayer)           [(None, 250, 250, 3  0           []                               \n",
      "                                )]                                                                \n",
      "                                                                                                  \n",
      " conv2d (Conv2D)                (None, 250, 250, 32  896         ['input_1[0][0]']                \n",
      "                                )                                                                 \n",
      "                                                                                                  \n",
      " max_pooling2d (MaxPooling2D)   (None, 125, 125, 32  0           ['conv2d[0][0]']                 \n",
      "                                )                                                                 \n",
      "                                                                                                  \n",
      " conv2d_1 (Conv2D)              (None, 125, 125, 64  18496       ['max_pooling2d[0][0]']          \n",
      "                                )                                                                 \n",
      "                                                                                                  \n",
      " max_pooling2d_1 (MaxPooling2D)  (None, 62, 62, 64)  0           ['conv2d_1[0][0]']               \n",
      "                                                                                                  \n",
      " conv2d_2 (Conv2D)              (None, 62, 62, 128)  73856       ['max_pooling2d_1[0][0]']        \n",
      "                                                                                                  \n",
      " max_pooling2d_2 (MaxPooling2D)  (None, 31, 31, 128)  0          ['conv2d_2[0][0]']               \n",
      "                                                                                                  \n",
      " conv2d_3 (Conv2D)              (None, 31, 31, 256)  295168      ['max_pooling2d_2[0][0]']        \n",
      "                                                                                                  \n",
      " max_pooling2d_3 (MaxPooling2D)  (None, 15, 15, 256)  0          ['conv2d_3[0][0]']               \n",
      "                                                                                                  \n",
      " conv2d_4 (Conv2D)              (None, 15, 15, 512)  1180160     ['max_pooling2d_3[0][0]']        \n",
      "                                                                                                  \n",
      " max_pooling2d_4 (MaxPooling2D)  (None, 7, 7, 512)   0           ['conv2d_4[0][0]']               \n",
      "                                                                                                  \n",
      " flatten (Flatten)              (None, 25088)        0           ['max_pooling2d_4[0][0]']        \n",
      "                                                                                                  \n",
      " dense (Dense)                  (None, 1024)         25691136    ['flatten[0][0]']                \n",
      "                                                                                                  \n",
      " bbox_output (Dense)            (None, 4)            4100        ['dense[0][0]']                  \n",
      "                                                                                                  \n",
      " class_output (Dense)           (None, 3)            3075        ['dense[0][0]']                  \n",
      "                                                                                                  \n",
      "==================================================================================================\n",
      "Total params: 27,266,887\n",
      "Trainable params: 27,266,887\n",
      "Non-trainable params: 0\n",
      "__________________________________________________________________________________________________\n"
     ]
    }
   ],
   "source": [
    "from tensorflow.keras import layers, models\n",
    "\n",
    "def build_model(input_size, num_classes):\n",
    "    inputs = tf.keras.Input(shape=(input_size, input_size, 3))\n",
    "    \n",
    "    # Feature extractor\n",
    "    x = layers.Conv2D(32, (3, 3), activation='relu', padding='same')(inputs)\n",
    "    x = layers.MaxPooling2D((2, 2))(x)\n",
    "    \n",
    "    x = layers.Conv2D(64, (3, 3), activation='relu', padding='same')(x)\n",
    "    x = layers.MaxPooling2D((2, 2))(x)\n",
    "    \n",
    "    x = layers.Conv2D(128, (3, 3), activation='relu', padding='same')(x)\n",
    "    x = layers.MaxPooling2D((2, 2))(x)\n",
    "    \n",
    "    x = layers.Conv2D(256, (3, 3), activation='relu', padding='same')(x)\n",
    "    x = layers.MaxPooling2D((2, 2))(x)\n",
    "    \n",
    "    x = layers.Conv2D(512, (3, 3), activation='relu', padding='same')(x)\n",
    "    x = layers.MaxPooling2D((2, 2))(x)\n",
    "    \n",
    "    # Flatten and add dense layers\n",
    "    x = layers.Flatten()(x)\n",
    "    x = layers.Dense(1024, activation='relu')(x)\n",
    "    \n",
    "    # Bounding box predictions (4 coordinates: x, y, width, height)\n",
    "    bbox_output = layers.Dense(4, name='bbox_output')(x)\n",
    "    \n",
    "    # Class predictions\n",
    "    class_output = layers.Dense(num_classes, activation='sigmoid', name='class_output')(x)\n",
    "    \n",
    "    model = models.Model(inputs=inputs, outputs=[bbox_output, class_output])\n",
    "    return model\n",
    "\n",
    "model = build_model(INPUT_SIZE, NUM_CLASSES)\n",
    "model.summary()\n"
   ]
  },
  {
   "cell_type": "code",
   "execution_count": 26,
   "metadata": {},
   "outputs": [],
   "source": [
    "model.compile(\n",
    "    optimizer='adam',\n",
    "    loss={\n",
    "        'bbox_output': 'mean_squared_error',\n",
    "        'class_output': 'binary_crossentropy'  # Use binary_crossentropy for multi-label classification\n",
    "    },\n",
    "    metrics={\n",
    "        'bbox_output': 'mean_squared_error',\n",
    "        'class_output': 'accuracy'\n",
    "    }\n",
    ")\n",
    "\n"
   ]
  },
  {
   "cell_type": "code",
   "execution_count": 27,
   "metadata": {},
   "outputs": [
    {
     "name": "stdout",
     "output_type": "stream",
     "text": [
      "Epoch 1/50\n"
     ]
    },
    {
     "ename": "ValueError",
     "evalue": "in user code:\n\n    File \"/home/anish/Work/Personal/Thesis/stacc_repo/Turtlebot-ObjectDetection-SW/.venv/lib/python3.9/site-packages/keras/engine/training.py\", line 1284, in train_function  *\n        return step_function(self, iterator)\n    File \"/home/anish/Work/Personal/Thesis/stacc_repo/Turtlebot-ObjectDetection-SW/.venv/lib/python3.9/site-packages/keras/engine/training.py\", line 1268, in step_function  **\n        outputs = model.distribute_strategy.run(run_step, args=(data,))\n    File \"/home/anish/Work/Personal/Thesis/stacc_repo/Turtlebot-ObjectDetection-SW/.venv/lib/python3.9/site-packages/keras/engine/training.py\", line 1249, in run_step  **\n        outputs = model.train_step(data)\n    File \"/home/anish/Work/Personal/Thesis/stacc_repo/Turtlebot-ObjectDetection-SW/.venv/lib/python3.9/site-packages/keras/engine/training.py\", line 1051, in train_step\n        loss = self.compute_loss(x, y, y_pred, sample_weight)\n    File \"/home/anish/Work/Personal/Thesis/stacc_repo/Turtlebot-ObjectDetection-SW/.venv/lib/python3.9/site-packages/keras/engine/training.py\", line 1109, in compute_loss\n        return self.compiled_loss(\n    File \"/home/anish/Work/Personal/Thesis/stacc_repo/Turtlebot-ObjectDetection-SW/.venv/lib/python3.9/site-packages/keras/engine/compile_utils.py\", line 265, in __call__\n        loss_value = loss_obj(y_t, y_p, sample_weight=sw)\n    File \"/home/anish/Work/Personal/Thesis/stacc_repo/Turtlebot-ObjectDetection-SW/.venv/lib/python3.9/site-packages/keras/losses.py\", line 142, in __call__\n        losses = call_fn(y_true, y_pred)\n    File \"/home/anish/Work/Personal/Thesis/stacc_repo/Turtlebot-ObjectDetection-SW/.venv/lib/python3.9/site-packages/keras/losses.py\", line 268, in call  **\n        return ag_fn(y_true, y_pred, **self._fn_kwargs)\n    File \"/home/anish/Work/Personal/Thesis/stacc_repo/Turtlebot-ObjectDetection-SW/.venv/lib/python3.9/site-packages/keras/losses.py\", line 2156, in binary_crossentropy\n        backend.binary_crossentropy(y_true, y_pred, from_logits=from_logits),\n    File \"/home/anish/Work/Personal/Thesis/stacc_repo/Turtlebot-ObjectDetection-SW/.venv/lib/python3.9/site-packages/keras/backend.py\", line 5707, in binary_crossentropy\n        return tf.nn.sigmoid_cross_entropy_with_logits(\n\n    ValueError: `logits` and `labels` must have the same shape, received ((None, 3) vs (None, None, 4)).\n",
     "output_type": "error",
     "traceback": [
      "\u001b[0;31m---------------------------------------------------------------------------\u001b[0m",
      "\u001b[0;31mValueError\u001b[0m                                Traceback (most recent call last)",
      "Cell \u001b[0;32mIn[27], line 1\u001b[0m\n\u001b[0;32m----> 1\u001b[0m history \u001b[38;5;241m=\u001b[39m \u001b[43mmodel\u001b[49m\u001b[38;5;241;43m.\u001b[39;49m\u001b[43mfit\u001b[49m\u001b[43m(\u001b[49m\n\u001b[1;32m      2\u001b[0m \u001b[43m    \u001b[49m\u001b[43mtrain_ds\u001b[49m\u001b[43m,\u001b[49m\n\u001b[1;32m      3\u001b[0m \u001b[43m    \u001b[49m\u001b[43mepochs\u001b[49m\u001b[38;5;241;43m=\u001b[39;49m\u001b[43mEPOCHS\u001b[49m\u001b[43m,\u001b[49m\n\u001b[1;32m      4\u001b[0m \u001b[43m    \u001b[49m\u001b[43mvalidation_data\u001b[49m\u001b[38;5;241;43m=\u001b[39;49m\u001b[43mval_ds\u001b[49m\u001b[43m,\u001b[49m\n\u001b[1;32m      5\u001b[0m \u001b[43m)\u001b[49m\n",
      "File \u001b[0;32m~/Work/Personal/Thesis/stacc_repo/Turtlebot-ObjectDetection-SW/.venv/lib/python3.9/site-packages/keras/utils/traceback_utils.py:70\u001b[0m, in \u001b[0;36mfilter_traceback.<locals>.error_handler\u001b[0;34m(*args, **kwargs)\u001b[0m\n\u001b[1;32m     67\u001b[0m     filtered_tb \u001b[38;5;241m=\u001b[39m _process_traceback_frames(e\u001b[38;5;241m.\u001b[39m__traceback__)\n\u001b[1;32m     68\u001b[0m     \u001b[38;5;66;03m# To get the full stack trace, call:\u001b[39;00m\n\u001b[1;32m     69\u001b[0m     \u001b[38;5;66;03m# `tf.debugging.disable_traceback_filtering()`\u001b[39;00m\n\u001b[0;32m---> 70\u001b[0m     \u001b[38;5;28;01mraise\u001b[39;00m e\u001b[38;5;241m.\u001b[39mwith_traceback(filtered_tb) \u001b[38;5;28;01mfrom\u001b[39;00m \u001b[38;5;28;01mNone\u001b[39;00m\n\u001b[1;32m     71\u001b[0m \u001b[38;5;28;01mfinally\u001b[39;00m:\n\u001b[1;32m     72\u001b[0m     \u001b[38;5;28;01mdel\u001b[39;00m filtered_tb\n",
      "File \u001b[0;32m/tmp/__autograph_generated_file9prtkiwl.py:15\u001b[0m, in \u001b[0;36mouter_factory.<locals>.inner_factory.<locals>.tf__train_function\u001b[0;34m(iterator)\u001b[0m\n\u001b[1;32m     13\u001b[0m \u001b[38;5;28;01mtry\u001b[39;00m:\n\u001b[1;32m     14\u001b[0m     do_return \u001b[38;5;241m=\u001b[39m \u001b[38;5;28;01mTrue\u001b[39;00m\n\u001b[0;32m---> 15\u001b[0m     retval_ \u001b[38;5;241m=\u001b[39m ag__\u001b[38;5;241m.\u001b[39mconverted_call(ag__\u001b[38;5;241m.\u001b[39mld(step_function), (ag__\u001b[38;5;241m.\u001b[39mld(\u001b[38;5;28mself\u001b[39m), ag__\u001b[38;5;241m.\u001b[39mld(iterator)), \u001b[38;5;28;01mNone\u001b[39;00m, fscope)\n\u001b[1;32m     16\u001b[0m \u001b[38;5;28;01mexcept\u001b[39;00m:\n\u001b[1;32m     17\u001b[0m     do_return \u001b[38;5;241m=\u001b[39m \u001b[38;5;28;01mFalse\u001b[39;00m\n",
      "\u001b[0;31mValueError\u001b[0m: in user code:\n\n    File \"/home/anish/Work/Personal/Thesis/stacc_repo/Turtlebot-ObjectDetection-SW/.venv/lib/python3.9/site-packages/keras/engine/training.py\", line 1284, in train_function  *\n        return step_function(self, iterator)\n    File \"/home/anish/Work/Personal/Thesis/stacc_repo/Turtlebot-ObjectDetection-SW/.venv/lib/python3.9/site-packages/keras/engine/training.py\", line 1268, in step_function  **\n        outputs = model.distribute_strategy.run(run_step, args=(data,))\n    File \"/home/anish/Work/Personal/Thesis/stacc_repo/Turtlebot-ObjectDetection-SW/.venv/lib/python3.9/site-packages/keras/engine/training.py\", line 1249, in run_step  **\n        outputs = model.train_step(data)\n    File \"/home/anish/Work/Personal/Thesis/stacc_repo/Turtlebot-ObjectDetection-SW/.venv/lib/python3.9/site-packages/keras/engine/training.py\", line 1051, in train_step\n        loss = self.compute_loss(x, y, y_pred, sample_weight)\n    File \"/home/anish/Work/Personal/Thesis/stacc_repo/Turtlebot-ObjectDetection-SW/.venv/lib/python3.9/site-packages/keras/engine/training.py\", line 1109, in compute_loss\n        return self.compiled_loss(\n    File \"/home/anish/Work/Personal/Thesis/stacc_repo/Turtlebot-ObjectDetection-SW/.venv/lib/python3.9/site-packages/keras/engine/compile_utils.py\", line 265, in __call__\n        loss_value = loss_obj(y_t, y_p, sample_weight=sw)\n    File \"/home/anish/Work/Personal/Thesis/stacc_repo/Turtlebot-ObjectDetection-SW/.venv/lib/python3.9/site-packages/keras/losses.py\", line 142, in __call__\n        losses = call_fn(y_true, y_pred)\n    File \"/home/anish/Work/Personal/Thesis/stacc_repo/Turtlebot-ObjectDetection-SW/.venv/lib/python3.9/site-packages/keras/losses.py\", line 268, in call  **\n        return ag_fn(y_true, y_pred, **self._fn_kwargs)\n    File \"/home/anish/Work/Personal/Thesis/stacc_repo/Turtlebot-ObjectDetection-SW/.venv/lib/python3.9/site-packages/keras/losses.py\", line 2156, in binary_crossentropy\n        backend.binary_crossentropy(y_true, y_pred, from_logits=from_logits),\n    File \"/home/anish/Work/Personal/Thesis/stacc_repo/Turtlebot-ObjectDetection-SW/.venv/lib/python3.9/site-packages/keras/backend.py\", line 5707, in binary_crossentropy\n        return tf.nn.sigmoid_cross_entropy_with_logits(\n\n    ValueError: `logits` and `labels` must have the same shape, received ((None, 3) vs (None, None, 4)).\n"
     ]
    }
   ],
   "source": [
    "history = model.fit(\n",
    "    train_ds,\n",
    "    epochs=EPOCHS,\n",
    "    validation_data=val_ds,\n",
    ")"
   ]
  }
 ],
 "metadata": {
  "kernelspec": {
   "display_name": ".venv",
   "language": "python",
   "name": "python3"
  },
  "language_info": {
   "codemirror_mode": {
    "name": "ipython",
    "version": 3
   },
   "file_extension": ".py",
   "mimetype": "text/x-python",
   "name": "python",
   "nbconvert_exporter": "python",
   "pygments_lexer": "ipython3",
   "version": "3.9.19"
  }
 },
 "nbformat": 4,
 "nbformat_minor": 2
}
