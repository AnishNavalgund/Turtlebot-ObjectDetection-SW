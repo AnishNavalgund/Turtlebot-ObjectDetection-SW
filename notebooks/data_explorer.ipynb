{
 "cells": [
  {
   "cell_type": "code",
   "execution_count": null,
   "metadata": {},
   "outputs": [],
   "source": [
    "from ultralytics import YOLO\n",
    "import torch"
   ]
  },
  {
   "cell_type": "code",
   "execution_count": null,
   "metadata": {},
   "outputs": [],
   "source": [
    "model_path = '../runs/detect/train4/weights/best.pt'"
   ]
  },
  {
   "cell_type": "code",
   "execution_count": null,
   "metadata": {},
   "outputs": [],
   "source": [
    "def load_model_state_dict(model_path):\n",
    "    try:\n",
    "        checkpoint = torch.load(model_path, map_location=torch.device('cpu'))\n",
    "        # Check if the loaded object is a state_dict or a checkpoint with additional metadata\n",
    "        if 'model' in checkpoint:\n",
    "            state_dict = checkpoint['model']\n",
    "        else:\n",
    "            state_dict = checkpoint\n",
    "        return state_dict\n",
    "    except FileNotFoundError:\n",
    "        print(f\"Model file not found at {model_path}\")\n",
    "        return None"
   ]
  },
  {
   "cell_type": "code",
   "execution_count": null,
   "metadata": {},
   "outputs": [],
   "source": [
    "def print_model_parameters(state_dict):\n",
    "    if state_dict:\n",
    "        for name, param in state_dict.items():\n",
    "            print(f\"Parameter: {name}, Data Type: {param.dtype}\")\n",
    "    else:\n",
    "        print(\"Model state_dict not loaded.\")"
   ]
  },
  {
   "cell_type": "code",
   "execution_count": null,
   "metadata": {},
   "outputs": [],
   "source": [
    "state_dict = load_model_state_dict(model_path)"
   ]
  },
  {
   "cell_type": "code",
   "execution_count": null,
   "metadata": {},
   "outputs": [],
   "source": [
    "print_model_parameters(state_dict)"
   ]
  }
 ],
 "metadata": {
  "kernelspec": {
   "display_name": ".venv",
   "language": "python",
   "name": "python3"
  },
  "language_info": {
   "codemirror_mode": {
    "name": "ipython",
    "version": 3
   },
   "file_extension": ".py",
   "mimetype": "text/x-python",
   "name": "python",
   "nbconvert_exporter": "python",
   "pygments_lexer": "ipython3",
   "version": "3.9.19"
  }
 },
 "nbformat": 4,
 "nbformat_minor": 2
}
